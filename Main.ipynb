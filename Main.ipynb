{
  "nbformat": 4,
  "nbformat_minor": 0,
  "metadata": {
    "colab": {
      "name": "Main.ipynb",
      "provenance": []
    },
    "kernelspec": {
      "name": "python3",
      "display_name": "Python 3"
    },
    "language_info": {
      "name": "python"
    }
  },
  "cells": [
    {
      "cell_type": "code",
      "execution_count": null,
      "metadata": {
        "colab": {
          "base_uri": "https://localhost:8080/"
        },
        "id": "8G-VhE6eib1w",
        "outputId": "108275ce-137d-4ad3-928c-e08a52577cba"
      },
      "outputs": [
        {
          "output_type": "stream",
          "name": "stdout",
          "text": [
            "Mounted at /content/drive\n"
          ]
        }
      ],
      "source": [
        "from google.colab import drive\n",
        "drive.mount('/content/drive')"
      ]
    },
    {
      "cell_type": "code",
      "source": [
        "import pandas as pd\n",
        "import numpy as np"
      ],
      "metadata": {
        "id": "kNfIF7H3iiqp"
      },
      "execution_count": null,
      "outputs": []
    },
    {
      "cell_type": "code",
      "source": [
        "final=pd.read_csv('/content/drive/MyDrive/airline_sentiment_analysis.csv')"
      ],
      "metadata": {
        "id": "3Id8JycCioZh"
      },
      "execution_count": null,
      "outputs": []
    },
    {
      "cell_type": "code",
      "source": [
        "from sklearn.model_selection import train_test_split\n",
        "from sklearn.svm import SVC\n",
        "import re\n",
        "from sklearn.metrics import accuracy_score, classification_report, confusion_matrix\n",
        "from sklearn.feature_extraction.text import CountVectorizer, TfidfVectorizer\n",
        "import joblib"
      ],
      "metadata": {
        "id": "Pzz3xKVfixvy"
      },
      "execution_count": null,
      "outputs": []
    },
    {
      "cell_type": "code",
      "source": [
        "class Model:\n",
        "    def __init__(self, datafile = '/content/drive/MyDrive/airline_sentiment_analysis.csv'):\n",
        "        self.df = pd.read_csv(datafile)\n",
        "        self.clf = SVC()\n",
        "        self.cleaned_df=None\n",
        "        self.tfidf_test_vectors=None\n",
        "    def preprocess(self):\n",
        "      self.df = self.df.drop('Unnamed: 0', axis = 1) \n",
        "      X = self.df['text']\n",
        "      y = self.df['airline_sentiment']\n",
        "      text = np.array(self.df['text'])\n",
        "      text = text.flatten()\n",
        "      for i in range(len(text)):\n",
        "        text[i] = re.sub('http[s]?://(?:[a-zA-Z]|[0-9]|[$-_@.&+#]|[!*\\(\\),]|'\n",
        "                            '(?:%[0-9a-fA-F][0-9a-fA-F]))+', '', text[i])\n",
        "        text[i] = re.sub(\"(@[A-Za-z0-9_]+)\", \"\", text[i])\n",
        "        text[i] = re.sub(\"(#[A-Za-z0-9_]+)\", \"\", text[i])\n",
        "      text = np.array(text)\n",
        "      X = pd.DataFrame(text, columns=['text'])\n",
        "      self.cleaned_df=X\n",
        "\n",
        "    def split(self, test_size):\n",
        "        \n",
        "        y = np.array(self.df['airline_sentiment'])\n",
        "\n",
        "        \n",
        "        self.X_train, self.X_test, self.y_train, self.y_test = train_test_split(self.cleaned_df, y, test_size = test_size, random_state = 42)\n",
        "    \n",
        "    \n",
        "    def fit(self):\n",
        "        tfidf_vectorizer = TfidfVectorizer() \n",
        "\n",
        "        tfidf_train_vectors = tfidf_vectorizer.fit_transform(np.array(self.X_train).flatten())\n",
        "        joblib.dump(tfidf_vectorizer.vocabulary_,open(\"feature.pkl\",\"wb\"))\n",
        "        self.tfidf_test_vectors = tfidf_vectorizer.transform(np.array(self.X_test).flatten())\n",
        "        self.model = self.clf.fit(tfidf_train_vectors, self.y_train)\n",
        "    \n",
        "    def predict(self):\n",
        "        \n",
        "        \n",
        "        result = self.model.predict(self.tfidf_test_vectors)\n",
        "        return result\n",
        "\n",
        "\n",
        "model_instance = Model()\n",
        "model_instance.preprocess()\n",
        "model_instance.split(0.2)\n",
        "\n",
        "model_instance.fit()   \n",
        "y_pred = model_instance.predict()\n",
        "y_test = model_instance.y_test\n",
        "print(accuracy_score(y_test, y_pred))\n"
      ],
      "metadata": {
        "colab": {
          "base_uri": "https://localhost:8080/"
        },
        "id": "V-HoZYbRiwfu",
        "outputId": "4c471709-5903-4fc8-9855-95a58bf1742a"
      },
      "execution_count": null,
      "outputs": [
        {
          "output_type": "stream",
          "name": "stdout",
          "text": [
            "0.9142485924642703\n"
          ]
        }
      ]
    },
    {
      "cell_type": "code",
      "source": [
        "from sklearn.utils.multiclass import check_classification_targets\n",
        "print(classification_report(y_test, y_pred))\n",
        "print(confusion_matrix(y_test, y_pred))\n"
      ],
      "metadata": {
        "colab": {
          "base_uri": "https://localhost:8080/"
        },
        "id": "8hUeBmAUnjr-",
        "outputId": "935826b7-adbf-46d7-8581-6c16d2ab59cb"
      },
      "execution_count": null,
      "outputs": [
        {
          "output_type": "stream",
          "name": "stdout",
          "text": [
            "              precision    recall  f1-score   support\n",
            "\n",
            "    negative       0.91      0.99      0.95      1862\n",
            "    positive       0.92      0.61      0.73       447\n",
            "\n",
            "    accuracy                           0.91      2309\n",
            "   macro avg       0.92      0.80      0.84      2309\n",
            "weighted avg       0.91      0.91      0.91      2309\n",
            "\n",
            "[[1839   23]\n",
            " [ 175  272]]\n"
          ]
        }
      ]
    },
    {
      "cell_type": "code",
      "source": [
        ""
      ],
      "metadata": {
        "id": "XUdEWZ7-pLzd"
      },
      "execution_count": null,
      "outputs": []
    }
  ]
}